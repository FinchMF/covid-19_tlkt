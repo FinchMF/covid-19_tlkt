{
 "nbformat": 4,
 "nbformat_minor": 2,
 "metadata": {
  "language_info": {
   "name": "python",
   "codemirror_mode": {
    "name": "ipython",
    "version": 3
   },
   "version": "3.7.3-final"
  },
  "orig_nbformat": 2,
  "file_extension": ".py",
  "mimetype": "text/x-python",
  "name": "python",
  "npconvert_exporter": "python",
  "pygments_lexer": "ipython3",
  "version": 3,
  "kernelspec": {
   "name": "python37364bitanaconda3virtualenve0beec8455a449faa64632dc843014f3",
   "display_name": "Python 3.7.3 64-bit ('anaconda3': virtualenv)"
  }
 },
 "cells": [
  {
   "cell_type": "markdown",
   "metadata": {},
   "source": [
    "## Workspace\n",
    "\n",
    "develop functions"
   ]
  },
  {
   "cell_type": "code",
   "execution_count": 91,
   "metadata": {},
   "outputs": [],
   "source": [
    "timeline = ['1/22/20', '1/23/20',\n",
    "       '1/24/20', '1/25/20', '1/26/20', '1/27/20', '1/28/20', '1/29/20',\n",
    "       '1/30/20', '1/31/20', '2/1/20', '2/2/20', '2/3/20', '2/4/20', '2/5/20',\n",
    "       '2/6/20', '2/7/20', '2/8/20', '2/9/20', '2/10/20', '2/11/20', '2/12/20',\n",
    "       '2/13/20', '2/14/20', '2/15/20', '2/16/20', '2/17/20', '2/18/20',\n",
    "       '2/19/20', '2/20/20', '2/21/20', '2/22/20', '2/23/20', '2/24/20',\n",
    "       '2/25/20', '2/26/20', '2/27/20', '2/28/20', '2/29/20', '3/1/20',\n",
    "       '3/2/20', '3/3/20', '3/4/20', '3/5/20', '3/6/20', '3/7/20',\n",
    "       '3/8/20', '3/9/20', '3/10/20', '3/11/20', '3/12/20',\n",
    "       '3/13/20', '3/14/20', '3/15/20', '3/16/20', '3/17/20',\n",
    "       '3/18/20', '3/19/20', '3/20/20'] "
   ]
  },
  {
   "cell_type": "code",
   "execution_count": 92,
   "metadata": {},
   "outputs": [
    {
     "output_type": "execute_result",
     "data": {
      "text/plain": "'3/20/20'"
     },
     "metadata": {},
     "execution_count": 92
    }
   ],
   "source": [
    "timeline[-1]"
   ]
  },
  {
   "cell_type": "code",
   "execution_count": 68,
   "metadata": {},
   "outputs": [
    {
     "output_type": "execute_result",
     "data": {
      "text/plain": "['1/22/20',\n '1/23/20',\n '1/24/20',\n '1/25/20',\n '1/26/20',\n '1/27/20',\n '1/28/20',\n '1/29/20',\n '1/30/20',\n '1/31/20',\n '2/1/20',\n '2/2/20',\n '2/3/20',\n '2/4/20',\n '2/5/20',\n '2/6/20',\n '2/7/20',\n '2/8/20',\n '2/9/20',\n '2/10/20',\n '2/11/20',\n '2/12/20',\n '2/13/20',\n '2/14/20',\n '2/15/20',\n '2/16/20',\n '2/17/20',\n '2/18/20',\n '2/19/20',\n '2/20/20',\n '2/21/20',\n '2/22/20',\n '2/23/20',\n '2/24/20',\n '2/25/20',\n '2/26/20',\n '2/27/20',\n '2/28/20',\n '2/29/20',\n '3/1/20',\n '3/2/20',\n '3/3/20',\n '3/4/20',\n '3/5/20',\n '3/6/20',\n '3/7/20',\n '3/8/20',\n '3/9/20',\n '3/10/20',\n '3/11/20',\n '3/12/20',\n '3/13/20',\n '3/14/20',\n '3/15/20',\n '3/16/20',\n '3/17/20',\n '3/18/20',\n '3/19/20',\n '3/20/20',\n '3/21/20']"
     },
     "metadata": {},
     "execution_count": 68
    }
   ],
   "source": [
    "update_timeline(timeline)"
   ]
  },
  {
   "cell_type": "code",
   "execution_count": 51,
   "metadata": {},
   "outputs": [
    {
     "output_type": "execute_result",
     "data": {
      "text/plain": "['1/22/20',\n '1/23/20',\n '1/24/20',\n '1/25/20',\n '1/26/20',\n '1/27/20',\n '1/28/20',\n '1/29/20',\n '1/30/20',\n '1/31/20',\n '2/1/20',\n '2/2/20',\n '2/3/20',\n '2/4/20',\n '2/5/20',\n '2/6/20',\n '2/7/20',\n '2/8/20',\n '2/9/20',\n '2/10/20',\n '2/11/20',\n '2/12/20',\n '2/13/20',\n '2/14/20',\n '2/15/20',\n '2/16/20',\n '2/17/20',\n '2/18/20',\n '2/19/20',\n '2/20/20',\n '2/21/20',\n '2/22/20',\n '2/23/20',\n '2/24/20',\n '2/25/20',\n '2/26/20',\n '2/27/20',\n '2/28/20',\n '2/29/20',\n '3/1/20',\n '3/2/20',\n '3/3/20',\n '3/4/20',\n '3/5/20',\n '3/6/20',\n '3/7/20',\n '3/8/20',\n '3/9/20',\n '3/10/20',\n '3/11/20',\n '3/12/20',\n '3/13/20',\n '3/14/20',\n '3/15/20',\n '3/16/20',\n '3/17/20',\n '3/18/20',\n '3/19/20',\n '3/20/20',\n '3/21/20',\n '3/22/20']"
     },
     "metadata": {},
     "execution_count": 51
    }
   ],
   "source": [
    "from datetime import date, timedelta, datetime\n",
    "\n",
    "today = \"{:%m/%d/%y}\".format(datetime.now())\n",
    "date = today[1:]\n",
    "date_format = \"%m/%d/%y\"\n",
    "sdate = datetime.strptime('3/21/20', date_format)   # start date\n",
    "edate = datetime.strptime(date, date_format)   # end date\n",
    "\n",
    "delta = edate - sdate       # as timedelta\n",
    "\n",
    "d = []\n",
    "for i in range(delta.days + 1):\n",
    "    day = sdate + timedelta(days=i)\n",
    "    d.append(day)\n",
    "string_list = []\n",
    "for i in d:\n",
    "    string_date = datetime.strftime(i, \"%m/%d/%y\" )\n",
    "    string_list.append(string_date[1:])\n",
    "timeline.extend(string_list)\n",
    "timeline"
   ]
  },
  {
   "cell_type": "code",
   "execution_count": 65,
   "metadata": {},
   "outputs": [],
   "source": [
    "def update_timeline(timeline, x):\n",
    "    today = \"{:%m/%d/%y}\".format(datetime.str\n",
    "    date = today[1:]\n",
    "    date_format = \"%m/%d/%y\"\n",
    "    sdate = datetime.strptime('3/21/20', date_format)   # start date\n",
    "    edate = datetime.strptime(date, date_format)   # end date\n",
    "\n",
    "    delta = edate - sdate       # as timedelta\n",
    "\n",
    "    d = []\n",
    "    for i in range(delta.days + 1):\n",
    "        day = sdate + timedelta(days=i)\n",
    "        d.append(day)\n",
    "    string_list = []\n",
    "    for i in d:\n",
    "        string_date = datetime.strftime(i, \"%m/%d/%y\" )\n",
    "        string_list.append(string_date[1:])\n",
    "    timeline.extend(string_list)\n",
    "    del timeline[-1]\n",
    "    return timeline"
   ]
  },
  {
   "cell_type": "code",
   "execution_count": 90,
   "metadata": {},
   "outputs": [],
   "source": [
    "def update_timeline(timeline, current_date):\n",
    "    sdate = datetime.strptime('3/21/20', date_format)   # start date\n",
    "    edate = datetime.strptime(current_date, date_format)   # end date\n",
    "\n",
    "    delta = edate - sdate       # as timedelta\n",
    "\n",
    "    d = []\n",
    "    for i in range(delta.days + 1):\n",
    "        day = sdate + timedelta(days=i)\n",
    "        d.append(day)\n",
    "    string_list = []\n",
    "    for i in d:\n",
    "        string_date = datetime.strftime(i, \"%m/%d/%y\" )\n",
    "        string_list.append(string_date[1:])\n",
    "    timeline.extend(string_list)\n",
    "    del timeline[-1]\n",
    "    return timeline"
   ]
  },
  {
   "cell_type": "code",
   "execution_count": 93,
   "metadata": {},
   "outputs": [
    {
     "output_type": "execute_result",
     "data": {
      "text/plain": "['1/22/20',\n '1/23/20',\n '1/24/20',\n '1/25/20',\n '1/26/20',\n '1/27/20',\n '1/28/20',\n '1/29/20',\n '1/30/20',\n '1/31/20',\n '2/1/20',\n '2/2/20',\n '2/3/20',\n '2/4/20',\n '2/5/20',\n '2/6/20',\n '2/7/20',\n '2/8/20',\n '2/9/20',\n '2/10/20',\n '2/11/20',\n '2/12/20',\n '2/13/20',\n '2/14/20',\n '2/15/20',\n '2/16/20',\n '2/17/20',\n '2/18/20',\n '2/19/20',\n '2/20/20',\n '2/21/20',\n '2/22/20',\n '2/23/20',\n '2/24/20',\n '2/25/20',\n '2/26/20',\n '2/27/20',\n '2/28/20',\n '2/29/20',\n '3/1/20',\n '3/2/20',\n '3/3/20',\n '3/4/20',\n '3/5/20',\n '3/6/20',\n '3/7/20',\n '3/8/20',\n '3/9/20',\n '3/10/20',\n '3/11/20',\n '3/12/20',\n '3/13/20',\n '3/14/20',\n '3/15/20',\n '3/16/20',\n '3/17/20',\n '3/18/20',\n '3/19/20',\n '3/20/20',\n '3/21/20']"
     },
     "metadata": {},
     "execution_count": 93
    }
   ],
   "source": [
    "update_timeline(timeline, '3/22/20')"
   ]
  },
  {
   "cell_type": "code",
   "execution_count": 1,
   "metadata": {},
   "outputs": [],
   "source": [
    "import pandas as pd"
   ]
  },
  {
   "cell_type": "code",
   "execution_count": 5,
   "metadata": {},
   "outputs": [],
   "source": [
    "data = pd.read_csv('/Volumes/S190813/Coding/covid_19/COVID-19/csse_covid_19_data/csse_covid_19_daily_reports/03-23-2020.csv')"
   ]
  },
  {
   "cell_type": "code",
   "execution_count": 17,
   "metadata": {},
   "outputs": [
    {
     "output_type": "execute_result",
     "data": {
      "text/plain": "FIPS                              NaN\nAdmin2                            NaN\nProvince_State                    NaN\nCountry_Region                Denmark\nLast_Update       2020-03-23 23:19:21\nLat                           56.2639\nLong_                          9.5018\nConfirmed                        1450\nDeaths                             24\nRecovered                           1\nActive                           1425\nCombined_Key                  Denmark\nName: 3293, dtype: object"
     },
     "metadata": {},
     "execution_count": 17
    }
   ],
   "source": [
    "data.iloc[3293]"
   ]
  },
  {
   "cell_type": "code",
   "execution_count": null,
   "metadata": {},
   "outputs": [],
   "source": []
  }
 ]
}